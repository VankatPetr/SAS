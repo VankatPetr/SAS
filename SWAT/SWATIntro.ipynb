{
 "cells": [
  {
   "cell_type": "markdown",
   "metadata": {},
   "source": [
    "# Intro"
   ]
  },
  {
   "cell_type": "markdown",
   "metadata": {},
   "source": [
    "The SAS Scripting Wrapper for Analytics Transfer (SWAT) is a package developed by SAS to allow the Python interface to access the SAS Viya platform and use its processing power. What is SAS Viya? It is a cloud-ready, in-memory analytics engine using SAS Cloud Analytic Services, or CAS for short.\n",
    "\n",
    "So, if you have no SAS background, don’t worry, the following steps demonstrate how you can use your Python skills to utilize and control analytical routines in SAS Viya."
   ]
  },
  {
   "cell_type": "markdown",
   "metadata": {},
   "source": [
    "# Packages"
   ]
  },
  {
   "cell_type": "markdown",
   "metadata": {},
   "source": [
    "+ To allow connections to SAS Viya through SWAT, the following additional packages are required.\n",
    "+ %matplotlib inline will make your plot outputs appear and be stored within the notebook.\n",
    "+ SWAT.OPTIONS.CAS.PRINT_MESSAGES is a SWAT function that can be used to turn on or off message printing of CAS actions and results."
   ]
  },
  {
   "cell_type": "code",
   "execution_count": 69,
   "metadata": {},
   "outputs": [],
   "source": [
    "import swat\n",
    "import pandas as pd\n",
    "from matplotlib import pyplot as plt\n",
    "%matplotlib inline\n",
    "swat.options.cas.print_messages = True"
   ]
  },
  {
   "cell_type": "markdown",
   "metadata": {},
   "source": [
    "# Connection"
   ]
  },
  {
   "cell_type": "markdown",
   "metadata": {},
   "source": [
    "+ Connect to CAS using the CASHOST, CASPORT, and SAS_VIYA_TOKEN arguments from the operating system environment."
   ]
  },
  {
   "cell_type": "code",
   "execution_count": 70,
   "metadata": {},
   "outputs": [],
   "source": [
    "conn = swat.CAS(os.environ.get(\"CASHOST\"), os.environ.get(\"CASPORT\"),None,os.environ.get(\"SAS_VIYA_TOKEN\"))"
   ]
  },
  {
   "cell_type": "markdown",
   "metadata": {},
   "source": [
    "+ To verify that a connection is now made, the serverstatus CAS action can be run on the CAS session to display details about the current SAS Viya session."
   ]
  },
  {
   "cell_type": "code",
   "execution_count": 71,
   "metadata": {},
   "outputs": [
    {
     "name": "stdout",
     "output_type": "stream",
     "text": [
      "NOTE: Grid node action status report: 1 nodes, 8 total actions executed.\n"
     ]
    },
    {
     "data": {
      "text/html": [
       "<div class=\"cas-results-key\"><b>&#167; About</b></div>\n",
       "<div class=\"cas-results-body\">\n",
       "<div>{'CAS': 'Cloud Analytic Services', 'Version': '3.04', 'VersionLong': 'V.03.04M0P07122018', 'Copyright': 'Copyright © 2014-2018 SAS Institute Inc. All Rights Reserved.', 'ServerTime': '2019-08-10T15:36:14Z', 'System': {'Hostname': 'pdcesx27012', 'OS Name': 'Linux', 'OS Family': 'LIN X64', 'OS Release': '3.10.0-693.el7.x86_64', 'OS Version': '#1 SMP Tue Aug 22 21:09:27 UTC 2017', 'Model Number': 'x86_64', 'Linux Distribution': 'CentOS Linux release 7.4.1708 (Core)'}, 'license': {'site': 'DEMOCENTER - Viya For Learners', 'siteNum': 70180938, 'expires': '05Dec2019:00:00:00', 'gracePeriod': 45, 'warningPeriod': 45, 'maxCPUs': 9999}}</div>\n",
       "</div>\n",
       "<div class=\"cas-results-key\"><hr/><b>&#167; server</b></div>\n",
       "<div class=\"cas-results-body\">\n",
       "<div>\n",
       "<style scoped>\n",
       "    .dataframe tbody tr th:only-of-type {\n",
       "        vertical-align: middle;\n",
       "    }\n",
       "\n",
       "    .dataframe tbody tr th {\n",
       "        vertical-align: top;\n",
       "    }\n",
       "\n",
       "    .dataframe thead th {\n",
       "        text-align: right;\n",
       "    }\n",
       "</style>\n",
       "<table border=\"1\" class=\"dataframe\"><caption>Server Status</caption>\n",
       "  <thead>\n",
       "    <tr style=\"text-align: right;\">\n",
       "      <th title=\"\"></th>\n",
       "      <th title=\"Node Count\">nodes</th>\n",
       "      <th title=\"Total Actions\">actions</th>\n",
       "    </tr>\n",
       "  </thead>\n",
       "  <tbody>\n",
       "    <tr>\n",
       "      <th>0</th>\n",
       "      <td>1</td>\n",
       "      <td>8</td>\n",
       "    </tr>\n",
       "  </tbody>\n",
       "</table>\n",
       "</div>\n",
       "</div>\n",
       "<div class=\"cas-results-key\"><hr/><b>&#167; nodestatus</b></div>\n",
       "<div class=\"cas-results-body\">\n",
       "<div>\n",
       "<style scoped>\n",
       "    .dataframe tbody tr th:only-of-type {\n",
       "        vertical-align: middle;\n",
       "    }\n",
       "\n",
       "    .dataframe tbody tr th {\n",
       "        vertical-align: top;\n",
       "    }\n",
       "\n",
       "    .dataframe thead th {\n",
       "        text-align: right;\n",
       "    }\n",
       "</style>\n",
       "<table border=\"1\" class=\"dataframe\"><caption>Node Status</caption>\n",
       "  <thead>\n",
       "    <tr style=\"text-align: right;\">\n",
       "      <th title=\"\"></th>\n",
       "      <th title=\"Node Name\">name</th>\n",
       "      <th title=\"Role\">role</th>\n",
       "      <th title=\"Uptime (Sec)\">uptime</th>\n",
       "      <th title=\"Running\">running</th>\n",
       "      <th title=\"Stalled\">stalled</th>\n",
       "    </tr>\n",
       "  </thead>\n",
       "  <tbody>\n",
       "    <tr>\n",
       "      <th>0</th>\n",
       "      <td>pdcesx27012.exnet.sas.com</td>\n",
       "      <td>controller</td>\n",
       "      <td>0.251</td>\n",
       "      <td>0</td>\n",
       "      <td>0</td>\n",
       "    </tr>\n",
       "  </tbody>\n",
       "</table>\n",
       "</div>\n",
       "</div>\n",
       "<div class=\"cas-output-area\"></div>\n",
       "<p class=\"cas-results-performance\"><small><span class=\"cas-elapsed\">elapsed 0.000268s</span> &#183; <span class=\"cas-user\">user 0.000138s</span> &#183; <span class=\"cas-sys\">sys 0.00012s</span> &#183; <span class=\"cas-memory\">mem 0.312MB</span></small></p>"
      ],
      "text/plain": [
       "[About]\n",
       "\n",
       " {'CAS': 'Cloud Analytic Services',\n",
       "  'Version': '3.04',\n",
       "  'VersionLong': 'V.03.04M0P07122018',\n",
       "  'Copyright': 'Copyright © 2014-2018 SAS Institute Inc. All Rights Reserved.',\n",
       "  'ServerTime': '2019-08-10T15:36:14Z',\n",
       "  'System': {'Hostname': 'pdcesx27012',\n",
       "   'OS Name': 'Linux',\n",
       "   'OS Family': 'LIN X64',\n",
       "   'OS Release': '3.10.0-693.el7.x86_64',\n",
       "   'OS Version': '#1 SMP Tue Aug 22 21:09:27 UTC 2017',\n",
       "   'Model Number': 'x86_64',\n",
       "   'Linux Distribution': 'CentOS Linux release 7.4.1708 (Core)'},\n",
       "  'license': {'site': 'DEMOCENTER - Viya For Learners',\n",
       "   'siteNum': 70180938,\n",
       "   'expires': '05Dec2019:00:00:00',\n",
       "   'gracePeriod': 45,\n",
       "   'warningPeriod': 45,\n",
       "   'maxCPUs': 9999}}\n",
       "\n",
       "[server]\n",
       "\n",
       " Server Status\n",
       " \n",
       "    nodes  actions\n",
       " 0      1        8\n",
       "\n",
       "[nodestatus]\n",
       "\n",
       " Node Status\n",
       " \n",
       "                         name        role  uptime  running  stalled\n",
       " 0  pdcesx27012.exnet.sas.com  controller   0.251        0        0\n",
       "\n",
       "+ Elapsed: 0.000268s, user: 0.000138s, sys: 0.00012s, mem: 0.312mb"
      ]
     },
     "execution_count": 71,
     "metadata": {},
     "output_type": "execute_result"
    }
   ],
   "source": [
    "conn.serverstatus()"
   ]
  },
  {
   "cell_type": "markdown",
   "metadata": {},
   "source": [
    "+ Youc can change the CAS time-out for the session, for example to 12 hours."
   ]
  },
  {
   "cell_type": "code",
   "execution_count": 72,
   "metadata": {},
   "outputs": [
    {
     "data": {
      "text/html": [
       "<div class=\"cas-results-key\"><b>&#167; state</b></div>\n",
       "<div class=\"cas-results-body\">\n",
       "<div>Connected</div>\n",
       "</div>\n",
       "<div class=\"cas-results-key\"><hr/><b>&#167; number of Connections</b></div>\n",
       "<div class=\"cas-results-body\">\n",
       "<div>1</div>\n",
       "</div>\n",
       "<div class=\"cas-results-key\"><hr/><b>&#167; Timeout</b></div>\n",
       "<div class=\"cas-results-body\">\n",
       "<div>43200</div>\n",
       "</div>\n",
       "<div class=\"cas-results-key\"><hr/><b>&#167; ActionStatus</b></div>\n",
       "<div class=\"cas-results-body\">\n",
       "<div>Action is active</div>\n",
       "</div>\n",
       "<div class=\"cas-results-key\"><hr/><b>&#167; Authenticated</b></div>\n",
       "<div class=\"cas-results-body\">\n",
       "<div>Yes</div>\n",
       "</div>\n",
       "<div class=\"cas-results-key\"><hr/><b>&#167; locale</b></div>\n",
       "<div class=\"cas-results-body\">\n",
       "<div>en_US</div>\n",
       "</div>\n",
       "<div class=\"cas-output-area\"></div>\n",
       "<p class=\"cas-results-performance\"><small><span class=\"cas-elapsed\">elapsed 0.000121s</span> &#183; <span class=\"cas-user\">user 6.1e-05s</span> &#183; <span class=\"cas-sys\">sys 5.1e-05s</span> &#183; <span class=\"cas-memory\">mem 0.212MB</span></small></p>"
      ],
      "text/plain": [
       "[state]\n",
       "\n",
       " 'Connected'\n",
       "\n",
       "[number of Connections]\n",
       "\n",
       " 1\n",
       "\n",
       "[Timeout]\n",
       "\n",
       " 43200\n",
       "\n",
       "[ActionStatus]\n",
       "\n",
       " 'Action is active'\n",
       "\n",
       "[Authenticated]\n",
       "\n",
       " 'Yes'\n",
       "\n",
       "[locale]\n",
       "\n",
       " 'en_US'\n",
       "\n",
       "+ Elapsed: 0.000121s, user: 6.1e-05s, sys: 5.1e-05s, mem: 0.212mb"
      ]
     },
     "execution_count": 72,
     "metadata": {},
     "output_type": "execute_result"
    }
   ],
   "source": [
    "mytime = 60*60*12\n",
    "conn.session.timeout(time=mytime)\n",
    "conn.session.sessionStatus()"
   ]
  },
  {
   "cell_type": "markdown",
   "metadata": {},
   "source": [
    "# Data"
   ]
  },
  {
   "cell_type": "markdown",
   "metadata": {},
   "source": [
    "+ Data can be already in to CAS. Use fileinfo method to explore the public library and see what datasets are already avilable for you. \n",
    "+ To work on a table a CASTable statement needs to be run. This will create a data table object."
   ]
  },
  {
   "cell_type": "code",
   "execution_count": 73,
   "metadata": {},
   "outputs": [
    {
     "data": {
      "text/html": [
       "<div class=\"cas-results-key\"><b>&#167; FileInfo</b></div>\n",
       "<div class=\"cas-results-body\">\n",
       "<div>\n",
       "<style scoped>\n",
       "    .dataframe tbody tr th:only-of-type {\n",
       "        vertical-align: middle;\n",
       "    }\n",
       "\n",
       "    .dataframe tbody tr th {\n",
       "        vertical-align: top;\n",
       "    }\n",
       "\n",
       "    .dataframe thead th {\n",
       "        text-align: right;\n",
       "    }\n",
       "</style>\n",
       "<table border=\"1\" class=\"dataframe\">\n",
       "  <thead>\n",
       "    <tr style=\"text-align: right;\">\n",
       "      <th title=\"\"></th>\n",
       "      <th title=\"Permission\">Permission</th>\n",
       "      <th title=\"Owner\">Owner</th>\n",
       "      <th title=\"Group\">Group</th>\n",
       "      <th title=\"Name\">Name</th>\n",
       "      <th title=\"Size of File in Bytes\">Size</th>\n",
       "      <th title=\"Encryption Method\">Encryption</th>\n",
       "      <th title=\"Time\">Time</th>\n",
       "      <th title=\"ModTime\">ModTime</th>\n",
       "    </tr>\n",
       "  </thead>\n",
       "  <tbody>\n",
       "    <tr>\n",
       "      <th>0</th>\n",
       "      <td>-rw-r--r--</td>\n",
       "      <td>v4e.admin@v4e.sas.com</td>\n",
       "      <td>sas</td>\n",
       "      <td>predef_svrtdist.sashdat</td>\n",
       "      <td>78872</td>\n",
       "      <td>NONE</td>\n",
       "      <td>2019-07-18T09:14:53-04:00</td>\n",
       "      <td>1.879075e+09</td>\n",
       "    </tr>\n",
       "    <tr>\n",
       "      <th>1</th>\n",
       "      <td>-rwxr-xr-x</td>\n",
       "      <td>v4e.admin@v4e.sas.com</td>\n",
       "      <td>sas</td>\n",
       "      <td>PARKS_LOC.sashdat</td>\n",
       "      <td>46665928</td>\n",
       "      <td>NONE</td>\n",
       "      <td>2019-07-15T08:58:35-04:00</td>\n",
       "      <td>1.878815e+09</td>\n",
       "    </tr>\n",
       "    <tr>\n",
       "      <th>2</th>\n",
       "      <td>-rwxr-xr-x</td>\n",
       "      <td>v4e.admin@v4e.sas.com</td>\n",
       "      <td>sas</td>\n",
       "      <td>FACILITY_TOY_AMERICA.sashdat</td>\n",
       "      <td>15280912</td>\n",
       "      <td>NONE</td>\n",
       "      <td>2019-07-15T09:02:47-04:00</td>\n",
       "      <td>1.878815e+09</td>\n",
       "    </tr>\n",
       "    <tr>\n",
       "      <th>3</th>\n",
       "      <td>-rwxr-xr-x</td>\n",
       "      <td>Sharon.Wu@sas.com</td>\n",
       "      <td>v4e_users</td>\n",
       "      <td>MQHACK_NEW.sashdat</td>\n",
       "      <td>5846216</td>\n",
       "      <td>NONE</td>\n",
       "      <td>2019-07-24T21:05:44-04:00</td>\n",
       "      <td>1.879636e+09</td>\n",
       "    </tr>\n",
       "  </tbody>\n",
       "</table>\n",
       "</div>\n",
       "</div>\n",
       "<div class=\"cas-output-area\"></div>\n",
       "<p class=\"cas-results-performance\"><small><span class=\"cas-elapsed\">elapsed 0.0192s</span> &#183; <span class=\"cas-user\">user 6.3e-05s</span> &#183; <span class=\"cas-sys\">sys 0.00102s</span> &#183; <span class=\"cas-memory\">mem 0.689MB</span></small></p>"
      ],
      "text/plain": [
       "[FileInfo]\n",
       "\n",
       "    Permission                  Owner      Group                          Name  \\\n",
       " 0  -rw-r--r--  v4e.admin@v4e.sas.com        sas       predef_svrtdist.sashdat   \n",
       " 1  -rwxr-xr-x  v4e.admin@v4e.sas.com        sas             PARKS_LOC.sashdat   \n",
       " 2  -rwxr-xr-x  v4e.admin@v4e.sas.com        sas  FACILITY_TOY_AMERICA.sashdat   \n",
       " 3  -rwxr-xr-x      Sharon.Wu@sas.com  v4e_users            MQHACK_NEW.sashdat   \n",
       " \n",
       "        Size Encryption                       Time       ModTime  \n",
       " 0     78872       NONE  2019-07-18T09:14:53-04:00  1.879075e+09  \n",
       " 1  46665928       NONE  2019-07-15T08:58:35-04:00  1.878815e+09  \n",
       " 2  15280912       NONE  2019-07-15T09:02:47-04:00  1.878815e+09  \n",
       " 3   5846216       NONE  2019-07-24T21:05:44-04:00  1.879636e+09  \n",
       "\n",
       "+ Elapsed: 0.0192s, user: 6.3e-05s, sys: 0.00102s, mem: 0.689mb"
      ]
     },
     "execution_count": 73,
     "metadata": {},
     "output_type": "execute_result"
    }
   ],
   "source": [
    "conn.fileinfo(caslib='public')"
   ]
  },
  {
   "cell_type": "code",
   "execution_count": 74,
   "metadata": {},
   "outputs": [],
   "source": [
    "MQHACK = conn.CASTable(name='MQHACK_NEW', caslib='public')"
   ]
  },
  {
   "cell_type": "markdown",
   "metadata": {},
   "source": [
    "+ If data is not available, you can load new data by yourself. For example load the hmeq.csv data set onto the server (use a folder path where you store the data) and create a data table object called castbl.\n",
    "+ Successfull upload will be confirmed by 2 NOTE's. The CASUSER library is a library which will make the data set available to the current user only."
   ]
  },
  {
   "cell_type": "code",
   "execution_count": 75,
   "metadata": {},
   "outputs": [
    {
     "name": "stdout",
     "output_type": "stream",
     "text": [
      "NOTE: Cloud Analytic Services made the uploaded file available as table HMEQ in caslib CASUSER(vankat.petr@outlook.com).\n",
      "NOTE: The table HMEQ has been created in caslib CASUSER(vankat.petr@outlook.com) from binary data uploaded to Cloud Analytic Services.\n"
     ]
    }
   ],
   "source": [
    "castbl = conn.read_csv(os.environ.get(\"HOME\")+\"/Courses/EVMLOPRC/DATA/hmeq.csv\", casout = dict(name=\"hmeq\", replace=True))"
   ]
  },
  {
   "cell_type": "markdown",
   "metadata": {},
   "source": [
    "+ It is possible to move data between libraries. For example, once you are done with data analysis/manipulation etc., you can promote the final set to to the public library (target = the name of the new CAS table within the target library)."
   ]
  },
  {
   "cell_type": "code",
   "execution_count": 76,
   "metadata": {},
   "outputs": [],
   "source": [
    "#conn.promote(name=castbl, targetlib='public', target='HMEQ_MODIFIED')"
   ]
  },
  {
   "cell_type": "markdown",
   "metadata": {},
   "source": [
    "+ If required, you can bring data locally. You can use the type() function in Python to determine where the data is located. Data on the CAS server will have a type or class of CASTable, and data on the client will have a type or class of casDataFrame or sasDataFrame depending on how it was created."
   ]
  },
  {
   "cell_type": "code",
   "execution_count": 77,
   "metadata": {},
   "outputs": [],
   "source": [
    "df = MQHACK.to_frame()"
   ]
  },
  {
   "cell_type": "code",
   "execution_count": 78,
   "metadata": {},
   "outputs": [
    {
     "data": {
      "text/plain": [
       "swat.cas.table.CASTable"
      ]
     },
     "metadata": {},
     "output_type": "display_data"
    },
    {
     "data": {
      "text/plain": [
       "swat.dataframe.SASDataFrame"
      ]
     },
     "metadata": {},
     "output_type": "display_data"
    }
   ],
   "source": [
    "display(type(MQHACK))\n",
    "display(type(df))"
   ]
  },
  {
   "cell_type": "markdown",
   "metadata": {},
   "source": [
    "# SWAT"
   ]
  },
  {
   "cell_type": "markdown",
   "metadata": {},
   "source": [
    "+ To find out available functions in SWAT, use dir() method. \n",
    "+ You can use the Help function to load documentation for a function."
   ]
  },
  {
   "cell_type": "code",
   "execution_count": 79,
   "metadata": {},
   "outputs": [
    {
     "data": {
      "text/plain": [
       "['CAS', 'CASTable', 'SASDataFrame', 'SASFormatter', 'SWATCASActionError']"
      ]
     },
     "execution_count": 79,
     "metadata": {},
     "output_type": "execute_result"
    }
   ],
   "source": [
    "funcs = dir(swat)\n",
    "funcs[:5]\n",
    "#help(\"swat.CAS\")"
   ]
  },
  {
   "cell_type": "markdown",
   "metadata": {},
   "source": [
    "### Data Exploration\n",
    "+ Use SWAT functions to explore the dataset."
   ]
  },
  {
   "cell_type": "code",
   "execution_count": 80,
   "metadata": {},
   "outputs": [
    {
     "name": "stdout",
     "output_type": "stream",
     "text": [
      "CASTable('HMEQ', caslib='CASUSER(vankat.petr@outlook.com)')\n",
      "Data columns (total 13 columns):\n",
      "            N   Miss     Type\n",
      "BAD      5960  False   double\n",
      "LOAN     5960  False   double\n",
      "MORTDUE  5442   True   double\n",
      "VALUE    5848   True   double\n",
      "REASON   5708   True  varchar\n",
      "JOB      5681   True  varchar\n",
      "YOJ      5445   True   double\n",
      "DEROG    5252   True   double\n",
      "DELINQ   5380   True   double\n",
      "CLAGE    5652   True   double\n",
      "NINQ     5450   True   double\n",
      "CLNO     5738   True   double\n",
      "DEBTINC  4693   True   double\n",
      "dtypes: double(11), varchar(2)\n",
      "data size: 785334\n",
      "vardata size: 70134\n",
      "memory usage: 785456\n"
     ]
    },
    {
     "data": {
      "text/plain": [
       "None"
      ]
     },
     "metadata": {},
     "output_type": "display_data"
    },
    {
     "data": {
      "text/html": [
       "<div>\n",
       "<style scoped>\n",
       "    .dataframe tbody tr th:only-of-type {\n",
       "        vertical-align: middle;\n",
       "    }\n",
       "\n",
       "    .dataframe tbody tr th {\n",
       "        vertical-align: top;\n",
       "    }\n",
       "\n",
       "    .dataframe thead th {\n",
       "        text-align: right;\n",
       "    }\n",
       "</style>\n",
       "<table border=\"1\" class=\"dataframe\">\n",
       "  <thead>\n",
       "    <tr style=\"text-align: right;\">\n",
       "      <th title=\"\"></th>\n",
       "      <th title=\"BAD\">BAD</th>\n",
       "      <th title=\"LOAN\">LOAN</th>\n",
       "      <th title=\"MORTDUE\">MORTDUE</th>\n",
       "      <th title=\"VALUE\">VALUE</th>\n",
       "      <th title=\"REASON\">REASON</th>\n",
       "      <th title=\"JOB\">JOB</th>\n",
       "      <th title=\"YOJ\">YOJ</th>\n",
       "      <th title=\"DEROG\">DEROG</th>\n",
       "      <th title=\"DELINQ\">DELINQ</th>\n",
       "      <th title=\"CLAGE\">CLAGE</th>\n",
       "      <th title=\"NINQ\">NINQ</th>\n",
       "      <th title=\"CLNO\">CLNO</th>\n",
       "      <th title=\"DEBTINC\">DEBTINC</th>\n",
       "    </tr>\n",
       "  </thead>\n",
       "  <tbody>\n",
       "    <tr>\n",
       "      <th>count</th>\n",
       "      <td>5960</td>\n",
       "      <td>5960</td>\n",
       "      <td>5442</td>\n",
       "      <td>5848</td>\n",
       "      <td>5708</td>\n",
       "      <td>5681</td>\n",
       "      <td>5445</td>\n",
       "      <td>5252</td>\n",
       "      <td>5380</td>\n",
       "      <td>5652</td>\n",
       "      <td>5450</td>\n",
       "      <td>5738</td>\n",
       "      <td>4693</td>\n",
       "    </tr>\n",
       "    <tr>\n",
       "      <th>unique</th>\n",
       "      <td>2</td>\n",
       "      <td>540</td>\n",
       "      <td>5053</td>\n",
       "      <td>5381</td>\n",
       "      <td>2</td>\n",
       "      <td>6</td>\n",
       "      <td>99</td>\n",
       "      <td>11</td>\n",
       "      <td>14</td>\n",
       "      <td>5314</td>\n",
       "      <td>16</td>\n",
       "      <td>62</td>\n",
       "      <td>4693</td>\n",
       "    </tr>\n",
       "    <tr>\n",
       "      <th>top</th>\n",
       "      <td>0</td>\n",
       "      <td>15000</td>\n",
       "      <td>42000</td>\n",
       "      <td>60000</td>\n",
       "      <td>DebtCon</td>\n",
       "      <td>Other</td>\n",
       "      <td>0</td>\n",
       "      <td>0</td>\n",
       "      <td>0</td>\n",
       "      <td>206.967</td>\n",
       "      <td>0</td>\n",
       "      <td>16</td>\n",
       "      <td>203.312</td>\n",
       "    </tr>\n",
       "    <tr>\n",
       "      <th>freq</th>\n",
       "      <td>4771</td>\n",
       "      <td>105</td>\n",
       "      <td>11</td>\n",
       "      <td>15</td>\n",
       "      <td>3928</td>\n",
       "      <td>2388</td>\n",
       "      <td>415</td>\n",
       "      <td>4527</td>\n",
       "      <td>4179</td>\n",
       "      <td>7</td>\n",
       "      <td>2531</td>\n",
       "      <td>316</td>\n",
       "      <td>1</td>\n",
       "    </tr>\n",
       "    <tr>\n",
       "      <th>mean</th>\n",
       "      <td>0.199497</td>\n",
       "      <td>18608</td>\n",
       "      <td>73760.8</td>\n",
       "      <td>101776</td>\n",
       "      <td>NaN</td>\n",
       "      <td>NaN</td>\n",
       "      <td>8.92227</td>\n",
       "      <td>0.25457</td>\n",
       "      <td>0.449442</td>\n",
       "      <td>179.766</td>\n",
       "      <td>1.18606</td>\n",
       "      <td>21.2961</td>\n",
       "      <td>33.7799</td>\n",
       "    </tr>\n",
       "    <tr>\n",
       "      <th>std</th>\n",
       "      <td>0.399656</td>\n",
       "      <td>11207.5</td>\n",
       "      <td>44457.6</td>\n",
       "      <td>57385.8</td>\n",
       "      <td>NaN</td>\n",
       "      <td>NaN</td>\n",
       "      <td>7.57398</td>\n",
       "      <td>0.846047</td>\n",
       "      <td>1.12727</td>\n",
       "      <td>85.8101</td>\n",
       "      <td>1.72867</td>\n",
       "      <td>10.1389</td>\n",
       "      <td>8.60175</td>\n",
       "    </tr>\n",
       "    <tr>\n",
       "      <th>min</th>\n",
       "      <td>0</td>\n",
       "      <td>1100</td>\n",
       "      <td>2063</td>\n",
       "      <td>8000</td>\n",
       "      <td>DebtCon</td>\n",
       "      <td>Mgr</td>\n",
       "      <td>0</td>\n",
       "      <td>0</td>\n",
       "      <td>0</td>\n",
       "      <td>0</td>\n",
       "      <td>0</td>\n",
       "      <td>0</td>\n",
       "      <td>0.524499</td>\n",
       "    </tr>\n",
       "    <tr>\n",
       "      <th>25%</th>\n",
       "      <td>0</td>\n",
       "      <td>11100</td>\n",
       "      <td>46268</td>\n",
       "      <td>66069</td>\n",
       "      <td>NaN</td>\n",
       "      <td>NaN</td>\n",
       "      <td>3</td>\n",
       "      <td>0</td>\n",
       "      <td>0</td>\n",
       "      <td>115.103</td>\n",
       "      <td>0</td>\n",
       "      <td>15</td>\n",
       "      <td>29.14</td>\n",
       "    </tr>\n",
       "    <tr>\n",
       "      <th>50%</th>\n",
       "      <td>0</td>\n",
       "      <td>16300</td>\n",
       "      <td>65019</td>\n",
       "      <td>89235.5</td>\n",
       "      <td>NaN</td>\n",
       "      <td>NaN</td>\n",
       "      <td>7</td>\n",
       "      <td>0</td>\n",
       "      <td>0</td>\n",
       "      <td>173.467</td>\n",
       "      <td>1</td>\n",
       "      <td>20</td>\n",
       "      <td>34.8183</td>\n",
       "    </tr>\n",
       "    <tr>\n",
       "      <th>75%</th>\n",
       "      <td>0</td>\n",
       "      <td>23300</td>\n",
       "      <td>91491</td>\n",
       "      <td>119832</td>\n",
       "      <td>NaN</td>\n",
       "      <td>NaN</td>\n",
       "      <td>13</td>\n",
       "      <td>0</td>\n",
       "      <td>0</td>\n",
       "      <td>231.575</td>\n",
       "      <td>2</td>\n",
       "      <td>26</td>\n",
       "      <td>39.0031</td>\n",
       "    </tr>\n",
       "    <tr>\n",
       "      <th>max</th>\n",
       "      <td>1</td>\n",
       "      <td>89900</td>\n",
       "      <td>399550</td>\n",
       "      <td>855909</td>\n",
       "      <td>HomeImp</td>\n",
       "      <td>Self</td>\n",
       "      <td>41</td>\n",
       "      <td>10</td>\n",
       "      <td>15</td>\n",
       "      <td>1168.23</td>\n",
       "      <td>17</td>\n",
       "      <td>71</td>\n",
       "      <td>203.312</td>\n",
       "    </tr>\n",
       "  </tbody>\n",
       "</table>\n",
       "</div>"
      ],
      "text/plain": [
       "             BAD     LOAN  MORTDUE    VALUE   REASON    JOB      YOJ  \\\n",
       "count       5960     5960     5442     5848     5708   5681     5445   \n",
       "unique         2      540     5053     5381        2      6       99   \n",
       "top            0    15000    42000    60000  DebtCon  Other        0   \n",
       "freq        4771      105       11       15     3928   2388      415   \n",
       "mean    0.199497    18608  73760.8   101776      NaN    NaN  8.92227   \n",
       "std     0.399656  11207.5  44457.6  57385.8      NaN    NaN  7.57398   \n",
       "min            0     1100     2063     8000  DebtCon    Mgr        0   \n",
       "25%            0    11100    46268    66069      NaN    NaN        3   \n",
       "50%            0    16300    65019  89235.5      NaN    NaN        7   \n",
       "75%            0    23300    91491   119832      NaN    NaN       13   \n",
       "max            1    89900   399550   855909  HomeImp   Self       41   \n",
       "\n",
       "           DEROG    DELINQ    CLAGE     NINQ     CLNO   DEBTINC  \n",
       "count       5252      5380     5652     5450     5738      4693  \n",
       "unique        11        14     5314       16       62      4693  \n",
       "top            0         0  206.967        0       16   203.312  \n",
       "freq        4527      4179        7     2531      316         1  \n",
       "mean     0.25457  0.449442  179.766  1.18606  21.2961   33.7799  \n",
       "std     0.846047   1.12727  85.8101  1.72867  10.1389   8.60175  \n",
       "min            0         0        0        0        0  0.524499  \n",
       "25%            0         0  115.103        0       15     29.14  \n",
       "50%            0         0  173.467        1       20   34.8183  \n",
       "75%            0         0  231.575        2       26   39.0031  \n",
       "max           10        15  1168.23       17       71   203.312  "
      ]
     },
     "execution_count": 80,
     "metadata": {},
     "output_type": "execute_result"
    }
   ],
   "source": [
    "display(castbl.info())\n",
    "castbl.describe(include=['numeric', 'character'])"
   ]
  },
  {
   "cell_type": "markdown",
   "metadata": {},
   "source": [
    "### Data Visualisation\n",
    "+ Standard Python packages can be used to visualize data.\n",
    "+ For example matplotlib functionality combined with SWAT methods can be used."
   ]
  },
  {
   "cell_type": "code",
   "execution_count": 81,
   "metadata": {},
   "outputs": [
    {
     "data": {
      "image/png": "[encoded data removed]",
      "text/plain": [
       "<Figure size 720x720 with 12 Axes>"
      ]
     },
     "metadata": {
      "needs_background": "light"
     },
     "output_type": "display_data"
    }
   ],
   "source": [
    "castbl.hist(figsize=(10,10))\n",
    "plt.show()"
   ]
  },
  {
   "cell_type": "markdown",
   "metadata": {},
   "source": [
    "### Data Manipulation\n",
    "+ Python libraries like Pandas can be used."
   ]
  },
  {
   "cell_type": "code",
   "execution_count": 82,
   "metadata": {},
   "outputs": [
    {
     "data": {
      "text/plain": [
       "REASON\n",
       "            95919.280172\n",
       "DebtCon    102172.956197\n",
       "HomeImp    101675.094662\n",
       "Name: VALUE, dtype: float64"
      ]
     },
     "execution_count": 82,
     "metadata": {},
     "output_type": "execute_result"
    }
   ],
   "source": [
    "#mean debt value by reason type\n",
    "castbl.groupby('REASON').VALUE.mean()"
   ]
  },
  {
   "cell_type": "markdown",
   "metadata": {},
   "source": [
    "### Model Building\n",
    "+ You can use SWAT to build models like decision trees, regression etc.\n",
    "+ Python packages like SciKit-Learn are also available."
   ]
  }
 ],
 "metadata": {
  "kernelspec": {
   "display_name": "Python 3",
   "language": "python",
   "name": "python3"
  },
  "language_info": {
   "codemirror_mode": {
    "name": "ipython",
    "version": 3
   },
   "file_extension": ".py",
   "mimetype": "text/x-python",
   "name": "python",
   "nbconvert_exporter": "python",
   "pygments_lexer": "ipython3",
   "version": "3.6.6"
  }
 },
 "nbformat": 4,
 "nbformat_minor": 2
}
